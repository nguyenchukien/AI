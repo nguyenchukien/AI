{
 "cells": [
  {
   "cell_type": "code",
   "execution_count": 1,
   "id": "cd4260a9-7990-470f-8fb8-3c1872365700",
   "metadata": {},
   "outputs": [],
   "source": [
    "from PIL import Image\n",
    "import os\n",
    "import cv2\n",
    "import math\n",
    "import numpy as np\n",
    "import matplotlib.pyplot as plt"
   ]
  },
  {
   "cell_type": "code",
   "execution_count": 3,
   "id": "e54a4874-e7b9-42f3-9e25-1a87328c959c",
   "metadata": {},
   "outputs": [],
   "source": [
    "img = cv2.imread('anh.jpg')\n",
    "medianBlur = cv2.medianBlur(img, 5)\n",
    "\n",
    "cv2.imshow('Original', img)\n",
    "cv2.imshow('Median blur', medianBlur)\n",
    "\n",
    "gaussian = cv2.GaussianBlur(img, (3, 3), 0)\n",
    "# Showing the image\n",
    "cv2.imshow('Gaussian blur', gaussian)\n",
    "  \n",
    "cv2.waitKey()\n",
    "cv2.destroyAllWindows()"
   ]
  },
  {
   "cell_type": "code",
   "execution_count": null,
   "id": "4d021f56-5ed8-4189-a3ce-a807fa282f82",
   "metadata": {},
   "outputs": [],
   "source": []
  }
 ],
 "metadata": {
  "kernelspec": {
   "display_name": "Python 3 (ipykernel)",
   "language": "python",
   "name": "python3"
  },
  "language_info": {
   "codemirror_mode": {
    "name": "ipython",
    "version": 3
   },
   "file_extension": ".py",
   "mimetype": "text/x-python",
   "name": "python",
   "nbconvert_exporter": "python",
   "pygments_lexer": "ipython3",
   "version": "3.9.16"
  }
 },
 "nbformat": 4,
 "nbformat_minor": 5
}
