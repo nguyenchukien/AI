{
 "cells": [
  {
   "cell_type": "code",
   "execution_count": 77,
   "id": "123cbfff-0f2d-4de0-9716-4d53d73ee77b",
   "metadata": {},
   "outputs": [],
   "source": [
    "import pygame \n",
    "import numpy as np\n",
    "import numpy.matlib\n",
    "import os\n",
    "from math import sqrt\n"
   ]
  },
  {
   "cell_type": "code",
   "execution_count": 78,
   "id": "5d7876b7-993c-4a6b-8de9-b03e29bf3fb0",
   "metadata": {},
   "outputs": [],
   "source": [
    "pygame.font.init()\n",
    "Window = pygame.display.set_mode((500, 500))\n",
    "pygame.display.set_caption(\"SUDOKU GAME by DataFlair\")\n",
    "x = 0\n",
    "z = 0\n",
    "diff = 500 / 9\n",
    "value= 0\n",
    "defaultgrid = np.matlib.rand(9,9)\n",
    " \n",
    " \n",
    "font = pygame.font.SysFont(\"comicsans\", 30)\n",
    "font1 = pygame.font.SysFont(\"comicsans\", 15)"
   ]
  },
  {
   "cell_type": "code",
   "execution_count": 79,
   "id": "b3c6dfc9-871e-44bd-9949-5ebe4875c7b1",
   "metadata": {},
   "outputs": [],
   "source": [
    "def cord(pos):\n",
    "    global x\n",
    "    x = pos[0]//diff\n",
    "    global z\n",
    "    z = pos[1]//diff\n",
    "def Sinh():\n",
    "    \n"
   ]
  },
  {
   "cell_type": "code",
   "execution_count": 80,
   "id": "3a43499a-a9fa-4411-a73a-bbcafb856431",
   "metadata": {},
   "outputs": [],
   "source": [
    "def drawlines():\n",
    "    for i in range (9):\n",
    "        for j in range (9):\n",
    "            if defaultgrid[i][j]!= 0:\n",
    "                text1 = font.render(str(defaultgrid[i][j]), 1, (0, 0, 0))\n",
    "                Window.blit(text1, (i * diff + 15, j * diff + 7))         \n",
    "    for l in range(10):\n",
    "        if l % 3 == 0 :\n",
    "            thick = 7\n",
    "        else:\n",
    "            thick = 1\n",
    "        pygame.draw.line(Window, (0, 0, 0), (0, l * diff), (500, l * diff), thick)\n",
    "        pygame.draw.line(Window, (0, 0, 0), (l * diff, 0), (l * diff, 500), thick)"
   ]
  },
  {
   "cell_type": "code",
   "execution_count": 81,
   "id": "0690fb1a-98c4-48b2-aa26-3b599cced8d7",
   "metadata": {},
   "outputs": [],
   "source": [
    "def fillvalue(value):\n",
    "    text1 = font.render(str(value), 1, (0, 0, 0))\n",
    "    Window.blit(text1, (x * diff + 15, z * diff + 15))   "
   ]
  },
  {
   "cell_type": "code",
   "execution_count": 82,
   "id": "8336c127-a084-48e1-9367-b006c2f9024a",
   "metadata": {},
   "outputs": [],
   "source": [
    "def raiseerror():\n",
    "    text1 = font.render(\"wrong!\", 1, (0, 0, 0))\n",
    "    Window.blit(text1, (20, 570)) \n",
    "def raiseerror1():\n",
    "    text1 = font.render(\"wrong ! enter a valid key for the game\", 1, (0, 0, 0))\n",
    "    Window.blit(text1, (20, 570)) "
   ]
  },
  {
   "cell_type": "code",
   "execution_count": 83,
   "id": "8b3c7c63-c582-486c-addb-9ac74e680365",
   "metadata": {},
   "outputs": [],
   "source": [
    "def validvalue(m, k, l, value):\n",
    "    for it in range(9):\n",
    "        if m[k][it]== value:\n",
    "            return False\n",
    "        if m[it][l]== value:\n",
    "            return False\n",
    "    it = k//3\n",
    "    jt = l//3\n",
    "    for k in range(it * 3, it * 3 + 3):\n",
    "        for l in range (jt * 3, jt * 3 + 3):\n",
    "            if m[k][l]== value:\n",
    "                return False\n",
    "    return True"
   ]
  },
  {
   "cell_type": "code",
   "execution_count": 84,
   "id": "5c55220b-1710-4711-820c-9581991056cc",
   "metadata": {},
   "outputs": [],
   "source": [
    "def solvegame(defaultgrid, i, j):\n",
    "     \n",
    "    while defaultgrid[i][j]!= 0:\n",
    "        if i<8:\n",
    "            i+= 1\n",
    "        elif i == 8 and j<8:\n",
    "            i = 0\n",
    "            j+= 1\n",
    "        elif i == 8 and j == 8:\n",
    "            return True\n",
    "    pygame.event.pump()   \n",
    "    for it in range(1, 10):\n",
    "        if validvalue(defaultgrid, i, j, it)== True:\n",
    "            defaultgrid[i][j]= it\n",
    "            global x, z\n",
    "            x = i\n",
    "            z = j\n",
    "            Window.fill((255, 255, 255))\n",
    "            drawlines()\n",
    "            pygame.display.update()\n",
    "            pygame.time.delay(20)\n",
    "            if solvegame(defaultgrid, i, j)== 1:\n",
    "                return True\n",
    "            else:\n",
    "                defaultgrid[i][j]= 0\n",
    "            Window.fill((0,0,0))\n",
    "         \n",
    "            drawlines()\n",
    "            pygame.display.update()\n",
    "            pygame.time.delay(50)   \n",
    "    return False "
   ]
  },
  {
   "cell_type": "code",
   "execution_count": 85,
   "id": "7b5015d9-04e7-44e3-89d8-b6b4204edab1",
   "metadata": {},
   "outputs": [],
   "source": [
    "def gameresult():\n",
    "    text1 = font.render('game finished', 1, (0, 0, 0))\n",
    "    Window.blit(text1, (20, 570)) \n",
    "flag=True  \n",
    "flag1 = 0\n",
    "flag2 = 0\n",
    "rs = 0\n",
    "error = 0"
   ]
  },
  {
   "cell_type": "code",
   "execution_count": 86,
   "id": "d549c407-3a3c-4760-beb8-4c453cf6683a",
   "metadata": {},
   "outputs": [],
   "source": [
    "while flag:\n",
    "    Window.fill((255,182,193))\n",
    "    for event in pygame.event.get():\n",
    "        if event.type == pygame.QUIT:\n",
    "            flag = False   \n",
    "        if event.type == pygame.MOUSEBUTTONDOWN:\n",
    "            flag1 = 1\n",
    "            pos = pygame.mouse.get_pos()\n",
    "            cord(pos)\n",
    "        if event.type == pygame.KEYDOWN:\n",
    "            if event.key == pygame.K_1:\n",
    "                value = 1\n",
    "            if event.key == pygame.K_2:\n",
    "                value = 2   \n",
    "            if event.key == pygame.K_3:\n",
    "                value = 3\n",
    "            if event.key == pygame.K_4:\n",
    "                value = 4\n",
    "            if event.key == pygame.K_5:\n",
    "                value = 5\n",
    "            if event.key == pygame.K_6:\n",
    "                value = 6\n",
    "            if event.key == pygame.K_7:\n",
    "                value = 7\n",
    "            if event.key == pygame.K_8:\n",
    "                value = 8\n",
    "            if event.key == pygame.K_9:\n",
    "                value = 9 \n",
    "    if flag2 == 1:\n",
    "        if solvegame(defaultgrid , 0, 0)== False:\n",
    "            error = 1\n",
    "        else:\n",
    "            rs = 1\n",
    "        flag2 = 0   \n",
    "    if value != 0:           \n",
    "        fillvalue(value)\n",
    "        if validvalue(defaultgrid , int(x), int(z), value)== True:\n",
    "            defaultgrid[int(x)][int(z)]= value\n",
    "            flag1 = 0\n",
    "        else:\n",
    "            defaultgrid[int(x)][int(z)]= 0\n",
    "            raiseerror1()  \n",
    "        value = 0   \n",
    "       \n",
    "    if error == 1:\n",
    "        raiseerror() \n",
    "    if rs == 1:\n",
    "        gameresult()       \n",
    "    drawlines() \n",
    "  \n",
    "    pygame.display.update() \n",
    "   \n",
    "pygame.quit()    "
   ]
  },
  {
   "cell_type": "code",
   "execution_count": null,
   "id": "70d4e396-43f6-4321-a40b-5cc291af0b53",
   "metadata": {},
   "outputs": [],
   "source": []
  },
  {
   "cell_type": "code",
   "execution_count": null,
   "id": "257f6e4a-54ef-47b9-a068-2f398940efef",
   "metadata": {},
   "outputs": [],
   "source": []
  }
 ],
 "metadata": {
  "kernelspec": {
   "display_name": "Python 3 (ipykernel)",
   "language": "python",
   "name": "python3"
  },
  "language_info": {
   "codemirror_mode": {
    "name": "ipython",
    "version": 3
   },
   "file_extension": ".py",
   "mimetype": "text/x-python",
   "name": "python",
   "nbconvert_exporter": "python",
   "pygments_lexer": "ipython3",
   "version": "3.9.16"
  }
 },
 "nbformat": 4,
 "nbformat_minor": 5
}
