{
 "cells": [
  {
   "cell_type": "code",
   "execution_count": 4,
   "id": "2f757316-9f60-4d50-b967-0b8acc025097",
   "metadata": {
    "tags": []
   },
   "outputs": [
    {
     "name": "stdout",
     "output_type": "stream",
     "text": [
      "0,1,1,2,3,5,8,13,21,34,55,89,144,233,377,610,987,"
     ]
    }
   ],
   "source": [
    "\n",
    "    \n",
    "\n",
    "\n"
   ]
  },
  {
   "cell_type": "code",
   "execution_count": null,
   "id": "d4d7e073-f607-4360-a924-97bd7a664f97",
   "metadata": {},
   "outputs": [],
   "source": [
    "\n"
   ]
  },
  {
   "cell_type": "code",
   "execution_count": 2,
   "id": "6547cda5-4609-42d2-abe8-47a731636f24",
   "metadata": {},
   "outputs": [],
   "source": [
    "# def in_sudoku(q):\n",
    "#     for d in range(len(q)):\n",
    "#         if d % 3 == 0 and d != 0:\n",
    "#             print(\"- - - - - - - - - - -\")\n",
    "#         for c in range(len(q[0])):\n",
    "#             if c % 3 == 0 and c != 0:\n",
    "#                 print(\"| \", end =\"\")\n",
    "#             if c == 8:\n",
    "#                 print(str(q[d][c]))\n",
    "#             else:\n",
    "#                 print(str(q[d][c]) + \" \", end = \"\")"
   ]
  },
  {
   "cell_type": "code",
   "execution_count": null,
   "id": "3007f427-464c-4923-ba2d-5698cf5c0296",
   "metadata": {},
   "outputs": [],
   "source": [
    "\n"
   ]
  },
  {
   "cell_type": "code",
   "execution_count": null,
   "id": "41ec91a6-d836-4006-9a35-998f49bebbe1",
   "metadata": {},
   "outputs": [],
   "source": []
  },
  {
   "cell_type": "code",
   "execution_count": null,
   "id": "9ebfac11-d97e-44fa-8aba-95aa48bed9ce",
   "metadata": {},
   "outputs": [],
   "source": []
  },
  {
   "cell_type": "code",
   "execution_count": null,
   "id": "123cbfff-0f2d-4de0-9716-4d53d73ee77b",
   "metadata": {},
   "outputs": [],
   "source": []
  },
  {
   "cell_type": "code",
   "execution_count": null,
   "id": "60b41c41-75c5-4d9e-aa5b-d8a985ed0f64",
   "metadata": {},
   "outputs": [],
   "source": []
  }
 ],
 "metadata": {
  "kernelspec": {
   "display_name": "Python 3 (ipykernel)",
   "language": "python",
   "name": "python3"
  },
  "language_info": {
   "codemirror_mode": {
    "name": "ipython",
    "version": 3
   },
   "file_extension": ".py",
   "mimetype": "text/x-python",
   "name": "python",
   "nbconvert_exporter": "python",
   "pygments_lexer": "ipython3",
   "version": "3.9.16"
  }
 },
 "nbformat": 4,
 "nbformat_minor": 5
}
